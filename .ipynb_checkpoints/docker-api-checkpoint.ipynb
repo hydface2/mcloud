{
 "metadata": {
  "name": "",
  "signature": "sha256:62a695bcee141f1b8aae55baa3ac4bd425490308429849c4be2adeab41ffb8ce"
 },
 "nbformat": 3,
 "nbformat_minor": 0,
 "worksheets": []
}