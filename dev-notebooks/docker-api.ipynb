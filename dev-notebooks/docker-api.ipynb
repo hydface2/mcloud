{
 "metadata": {
  "name": "",
  "signature": "sha256:c714fbf3c7c7d6860e86792e89de9c29b40008cdb141888cd012fa9d2ae63425"
 },
 "nbformat": 3,
 "nbformat_minor": 0,
 "worksheets": [
  {
   "cells": [
    {
     "cell_type": "code",
     "collapsed": false,
     "input": [
      "import docker"
     ],
     "language": "python",
     "metadata": {},
     "outputs": [],
     "prompt_number": 1
    },
    {
     "cell_type": "code",
     "collapsed": false,
     "input": [
      "client =  docker.Client(base_url='unix://var/run/docker.sock',\n",
      "                                                                        version='1.6',\n",
      "                                                                        timeout=100)"
     ],
     "language": "python",
     "metadata": {},
     "outputs": [],
     "prompt_number": 31
    },
    {
     "cell_type": "code",
     "collapsed": false,
     "input": [
      "from pprintpp import pprint\n",
      "\n",
      "client.images(name='lgsd/diamond')\n"
     ],
     "language": "python",
     "metadata": {},
     "outputs": [
      {
       "metadata": {},
       "output_type": "pyout",
       "prompt_number": 35,
       "text": [
        "[{u'Created': 1391623785,\n",
        "  u'Id': u'bfa7f7cadbffc9375bae0f57267f4c6939158574f791bb7e8a757e00c3ce9c32',\n",
        "  u'Repository': u'lgsd/diamond',\n",
        "  u'Size': 0,\n",
        "  u'Tag': u'latest',\n",
        "  u'VirtualSize': 1214525}]"
       ]
      }
     ],
     "prompt_number": 35
    },
    {
     "cell_type": "code",
     "collapsed": false,
     "input": [
      "gen = client.build('/home/alex/dev/mfcloud/mfcloud/controller')\n",
      "\n",
      "for x in gen:\n",
      "    print x"
     ],
     "language": "python",
     "metadata": {},
     "outputs": [
      {
       "output_type": "stream",
       "stream": "stdout",
       "text": [
        "eec8980ee833\n",
        "Step 0 : FROM ubuntu\n",
        "\r",
        " ---> 9cd978db300e\n",
        "\r",
        "Step 1 : RUN apt-get update && apt-get install -y redis-server supervisor build-essential python-dev python-pip\n",
        "\r",
        " ---> Using cache\n",
        "\r",
        " ---> 061f01874261\n",
        "\r",
        "Step 2 : ADD . /locator\n",
        "\r",
        " ---> Using cache\n",
        "\r",
        " ---> 2aca6d278ab2\n",
        "\r",
        "Step 3 : RUN pip install -r /locator/requirements.txt\n",
        "\r",
        " ---> Using cache\n",
        "\r",
        " ---> da7832fb5085\n",
        "\r",
        "Step 4 : ADD supervisor.conf /etc/supervisor/conf.d/supervisord.conf\n",
        "\r",
        " ---> Using cache\n",
        "\r",
        " ---> 6780081eb51f\n",
        "\r",
        "Step 5 : EXPOSE 53/udp 53 6379\n",
        "\r",
        " ---> Running in 50d169c31ade\n",
        "\r",
        " ---> 90e341fb64e8\n",
        "\r",
        "Step 6 : CMD [\"/usr/bin/supervisord\"]\n",
        "\r",
        " ---> Running in 896e8479b4c9\n",
        "\r",
        " ---> eec8980ee833\n",
        "\r",
        "Successfully built eec8980ee833\n",
        "\r\n"
       ]
      }
     ],
     "prompt_number": 26
    },
    {
     "cell_type": "code",
     "collapsed": false,
     "input": [
      "for x in client.pull('lgsd/diamond', stream=True):\n",
      "    print x\n"
     ],
     "language": "python",
     "metadata": {},
     "outputs": [
      {
       "output_type": "stream",
       "stream": "stdout",
       "text": [
        "{\"status\":\"Pulling image (latest) from lgsd/diamond\",\"progressDetail\":{},\"id\":\"bfa7f7cadbff\"}\r\n",
        "\n",
        "{\"status\":\"Pulling image (latest) from lgsd/diamond, endpoint: https://cdn-registry-1.docker.io/v1/\",\"progressDetail\":{},\"id\":\"bfa7f7cadbff\"}\r\n",
        "\n",
        "{\"status\":\"Pulling dependent layers\",\"progressDetail\":{},\"id\":\"bfa7f7cadbff\"}\r\n"
       ]
      },
      {
       "output_type": "stream",
       "stream": "stdout",
       "text": [
        "\n",
        "{\"status\":\"Download complete\",\"progressDetail\":{},\"id\":\"511136ea3c5a\"}\r\n",
        "\n",
        "{\"status\":\"Pulling metadata\",\"progressDetail\":{},\"id\":\"091f25141598\"}\r\n",
        "\n",
        "{\"status\":\"Pulling fs layer\",\"progressDetail\":{},\"id\":\"091f25141598\"}\r\n"
       ]
      },
      {
       "output_type": "stream",
       "stream": "stdout",
       "text": [
        "\n",
        "{\"status\":\"Downloading\",\"progressDetail\":{\"current\":10,\"total\":175,\"start\":1396599886},\"progress\":\"[==\\u003e                                                ]     10 B/175 B 2s\",\"id\":\"091f25141598\"}\r\n"
       ]
      },
      {
       "output_type": "stream",
       "stream": "stdout",
       "text": [
        "\n",
        "{\"status\":\"Downloading\",\"progressDetail\":{\"current\":175,\"total\":175,\"start\":1396599886},\"progress\":\"[==================================================\\u003e]    175 B/175 B\",\"id\":\"091f25141598\"}\r\n",
        "\n",
        "{\"status\":\"Downloading\",\"progressDetail\":{\"current\":175,\"total\":175,\"start\":1396599886},\"progress\":\"[==================================================\\u003e]    175 B/175 B\",\"id\":\"091f25141598\"}\r\n",
        "\n",
        "{\"status\":\"Download complete\",\"progressDetail\":{},\"id\":\"091f25141598\"}\r\n",
        "\n",
        "{\"status\":\"Pulling metadata\",\"progressDetail\":{},\"id\":\"ffc94ca58a3b\"}\r\n",
        "\n",
        "{\"status\":\"Pulling fs layer\",\"progressDetail\":{},\"id\":\"ffc94ca58a3b\"}\r\n"
       ]
      },
      {
       "output_type": "stream",
       "stream": "stdout",
       "text": [
        "\n",
        "{\"status\":\"Downloading\",\"progressDetail\":{\"current\":8202,\"total\":627624,\"start\":1396599887},\"progress\":\"[\\u003e                                                  ] 8.202 kB/627.6 kB 51s\",\"id\":\"ffc94ca58a3b\"}\r\n"
       ]
      },
      {
       "output_type": "stream",
       "stream": "stdout",
       "text": [
        "\n",
        "{\"status\":\"Downloading\",\"progressDetail\":{\"current\":16394,\"total\":627624,\"start\":1396599887},\"progress\":\"[=\\u003e                                                 ] 16.39 kB/627.6 kB 25s\",\"id\":\"ffc94ca58a3b\"}\r\n",
        "\n",
        "{\"status\":\"Downloading\",\"progressDetail\":{\"current\":24586,\"total\":627624,\"start\":1396599887},\"progress\":\"[=\\u003e                                                 ] 24.59 kB/627.6 kB 16s\",\"id\":\"ffc94ca58a3b\"}\r\n",
        "\n",
        "{\"status\":\"Downloading\",\"progressDetail\":{\"current\":32768,\"total\":627624,\"start\":1396599887},\"progress\":\"[==\\u003e                                                ] 32.77 kB/627.6 kB 12s\",\"id\":\"ffc94ca58a3b\"}\r\n",
        "\n",
        "{\"status\":\"Downloading\",\"progressDetail\":{\"current\":40960,\"total\":627624,\"start\":1396599887},\"progress\":\"[===\\u003e                                               ] 40.96 kB/627.6 kB 10s\",\"id\":\"ffc94ca58a3b\"}\r\n",
        "\n",
        "{\"status\":\"Downloading\",\"progressDetail\":{\"current\":49152,\"total\":627624,\"start\":1396599887},\"progress\":\"[===\\u003e                                               ] 49.15 kB/627.6 kB 8s\",\"id\":\"ffc94ca58a3b\"}\r\n",
        "\n",
        "{\"status\":\"Downloading\",\"progressDetail\":{\"current\":57344,\"total\":627624,\"start\":1396599887},\"progress\":\"[====\\u003e                                              ] 57.34 kB/627.6 kB 7s\",\"id\":\"ffc94ca58a3b\"}\r\n",
        "\n",
        "{\"status\":\"Downloading\",\"progressDetail\":{\"current\":65536,\"total\":627624,\"start\":1396599887},\"progress\":\"[=====\\u003e                                             ] 65.54 kB/627.6 kB 6s\",\"id\":\"ffc94ca58a3b\"}\r\n",
        "\n",
        "{\"status\":\"Downloading\",\"progressDetail\":{\"current\":73728,\"total\":627624,\"start\":1396599887},\"progress\":\"[=====\\u003e                                             ] 73.73 kB/627.6 kB 5s\",\"id\":\"ffc94ca58a3b\"}\r\n"
       ]
      },
      {
       "output_type": "stream",
       "stream": "stdout",
       "text": [
        "\n",
        "{\"status\":\"Downloading\",\"progressDetail\":{\"current\":81920,\"total\":627624,\"start\":1396599887},\"progress\":\"[======\\u003e                                            ] 81.92 kB/627.6 kB 5s\",\"id\":\"ffc94ca58a3b\"}\r\n",
        "\n",
        "{\"status\":\"Downloading\",\"progressDetail\":{\"current\":90112,\"total\":627624,\"start\":1396599887},\"progress\":\"[=======\\u003e                                           ] 90.11 kB/627.6 kB 4s\",\"id\":\"ffc94ca58a3b\"}\r\n",
        "\n",
        "{\"status\":\"Downloading\",\"progressDetail\":{\"current\":98304,\"total\":627624,\"start\":1396599887},\"progress\":\"[=======\\u003e                                           ]  98.3 kB/627.6 kB 4s\",\"id\":\"ffc94ca58a3b\"}\r\n",
        "\n",
        "{\"status\":\"Downloading\",\"progressDetail\":{\"current\":106496,\"total\":627624,\"start\":1396599887},\"progress\":\"[========\\u003e                                          ] 106.5 kB/627.6 kB 3s\",\"id\":\"ffc94ca58a3b\"}\r\n",
        "\n",
        "{\"status\":\"Downloading\",\"progressDetail\":{\"current\":114688,\"total\":627624,\"start\":1396599887},\"progress\":\"[=========\\u003e                                         ] 114.7 kB/627.6 kB 3s\",\"id\":\"ffc94ca58a3b\"}\r\n",
        "\n",
        "{\"status\":\"Downloading\",\"progressDetail\":{\"current\":122880,\"total\":627624,\"start\":1396599887},\"progress\":\"[=========\\u003e                                         ] 122.9 kB/627.6 kB 3s\",\"id\":\"ffc94ca58a3b\"}\r\n",
        "\n",
        "{\"status\":\"Downloading\",\"progressDetail\":{\"current\":131072,\"total\":627624,\"start\":1396599887},\"progress\":\"[==========\\u003e                                        ] 131.1 kB/627.6 kB 3s\",\"id\":\"ffc94ca58a3b\"}\r\n",
        "\n",
        "{\"status\":\"Downloading\",\"progressDetail\":{\"current\":139264,\"total\":627624,\"start\":1396599887},\"progress\":\"[===========\\u003e                                       ] 139.3 kB/627.6 kB 2s\",\"id\":\"ffc94ca58a3b\"}\r\n"
       ]
      },
      {
       "output_type": "stream",
       "stream": "stdout",
       "text": [
        "\n",
        "{\"status\":\"Downloading\",\"progressDetail\":{\"current\":147456,\"total\":627624,\"start\":1396599887},\"progress\":\"[===========\\u003e                                       ] 147.5 kB/627.6 kB 2s\",\"id\":\"ffc94ca58a3b\"}\r\n",
        "\n",
        "{\"status\":\"Downloading\",\"progressDetail\":{\"current\":155648,\"total\":627624,\"start\":1396599887},\"progress\":\"[============\\u003e                                      ] 155.6 kB/627.6 kB 2s\",\"id\":\"ffc94ca58a3b\"}\r\n",
        "\n",
        "{\"status\":\"Downloading\",\"progressDetail\":{\"current\":163840,\"total\":627624,\"start\":1396599887},\"progress\":\"[=============\\u003e                                     ] 163.8 kB/627.6 kB 2s\",\"id\":\"ffc94ca58a3b\"}\r\n",
        "\n",
        "{\"status\":\"Downloading\",\"progressDetail\":{\"current\":172032,\"total\":627624,\"start\":1396599887},\"progress\":\"[=============\\u003e                                     ]   172 kB/627.6 kB 2s\",\"id\":\"ffc94ca58a3b\"}\r\n",
        "\n",
        "{\"status\":\"Downloading\",\"progressDetail\":{\"current\":180224,\"total\":627624,\"start\":1396599887},\"progress\":\"[==============\\u003e                                    ] 180.2 kB/627.6 kB 2s\",\"id\":\"ffc94ca58a3b\"}\r\n",
        "\n",
        "{\"status\":\"Downloading\",\"progressDetail\":{\"current\":188416,\"total\":627624,\"start\":1396599887},\"progress\":\"[===============\\u003e                                   ] 188.4 kB/627.6 kB 1s\",\"id\":\"ffc94ca58a3b\"}\r\n",
        "\n",
        "{\"status\":\"Downloading\",\"progressDetail\":{\"current\":196608,\"total\":627624,\"start\":1396599887},\"progress\":\"[===============\\u003e                                   ] 196.6 kB/627.6 kB 1s\",\"id\":\"ffc94ca58a3b\"}\r\n",
        "\n",
        "{\"status\":\"Downloading\",\"progressDetail\":{\"current\":204800,\"total\":627624,\"start\":1396599887},\"progress\":\"[================\\u003e                                  ] 204.8 kB/627.6 kB 1s\",\"id\":\"ffc94ca58a3b\"}\r\n",
        "\n",
        "{\"status\":\"Downloading\",\"progressDetail\":{\"current\":212992,\"total\":627624,\"start\":1396599887},\"progress\":\"[================\\u003e                                  ]   213 kB/627.6 kB 1s\",\"id\":\"ffc94ca58a3b\"}\r\n",
        "\n",
        "{\"status\":\"Downloading\",\"progressDetail\":{\"current\":221184,\"total\":627624,\"start\":1396599887},\"progress\":\"[=================\\u003e                                 ] 221.2 kB/627.6 kB 1s\",\"id\":\"ffc94ca58a3b\"}\r\n",
        "\n",
        "{\"status\":\"Downloading\",\"progressDetail\":{\"current\":229376,\"total\":627624,\"start\":1396599887},\"progress\":\"[==================\\u003e                                ] 229.4 kB/627.6 kB 1s\",\"id\":\"ffc94ca58a3b\"}\r\n",
        "\n",
        "{\"status\":\"Downloading\",\"progressDetail\":{\"current\":237568,\"total\":627624,\"start\":1396599887},\"progress\":\"[==================\\u003e                                ] 237.6 kB/627.6 kB 1s\",\"id\":\"ffc94ca58a3b\"}\r\n"
       ]
      },
      {
       "output_type": "stream",
       "stream": "stdout",
       "text": [
        "\n",
        "{\"status\":\"Downloading\",\"progressDetail\":{\"current\":245760,\"total\":627624,\"start\":1396599887},\"progress\":\"[===================\\u003e                               ] 245.8 kB/627.6 kB 1s\",\"id\":\"ffc94ca58a3b\"}\r\n",
        "\n",
        "{\"status\":\"Downloading\",\"progressDetail\":{\"current\":253952,\"total\":627624,\"start\":1396599887},\"progress\":\"[====================\\u003e                              ]   254 kB/627.6 kB 1s\",\"id\":\"ffc94ca58a3b\"}\r\n",
        "\n",
        "{\"status\":\"Downloading\",\"progressDetail\":{\"current\":262144,\"total\":627624,\"start\":1396599887},\"progress\":\"[====================\\u003e                              ] 262.1 kB/627.6 kB 1s\",\"id\":\"ffc94ca58a3b\"}\r\n",
        "\n",
        "{\"status\":\"Downloading\",\"progressDetail\":{\"current\":270336,\"total\":627624,\"start\":1396599887},\"progress\":\"[=====================\\u003e                             ] 270.3 kB/627.6 kB 1s\",\"id\":\"ffc94ca58a3b\"}\r\n",
        "\n",
        "{\"status\":\"Downloading\",\"progressDetail\":{\"current\":278528,\"total\":627624,\"start\":1396599887},\"progress\":\"[======================\\u003e                            ] 278.5 kB/627.6 kB 1s\",\"id\":\"ffc94ca58a3b\"}\r\n",
        "\n",
        "{\"status\":\"Downloading\",\"progressDetail\":{\"current\":286720,\"total\":627624,\"start\":1396599887},\"progress\":\"[======================\\u003e                            ] 286.7 kB/627.6 kB 1s\",\"id\":\"ffc94ca58a3b\"}\r\n",
        "\n",
        "{\"status\":\"Downloading\",\"progressDetail\":{\"current\":294912,\"total\":627624,\"start\":1396599887},\"progress\":\"[=======================\\u003e                           ] 294.9 kB/627.6 kB 0\",\"id\":\"ffc94ca58a3b\"}\r\n",
        "\n",
        "{\"status\":\"Downloading\",\"progressDetail\":{\"current\":303104,\"total\":627624,\"start\":1396599887},\"progress\":\"[========================\\u003e                          ] 303.1 kB/627.6 kB 0\",\"id\":\"ffc94ca58a3b\"}\r\n",
        "\n",
        "{\"status\":\"Downloading\",\"progressDetail\":{\"current\":311296,\"total\":627624,\"start\":1396599887},\"progress\":\"[========================\\u003e                          ] 311.3 kB/627.6 kB 0\",\"id\":\"ffc94ca58a3b\"}\r\n",
        "\n",
        "{\"status\":\"Downloading\",\"progressDetail\":{\"current\":319488,\"total\":627624,\"start\":1396599887},\"progress\":\"[=========================\\u003e                         ] 319.5 kB/627.6 kB 0\",\"id\":\"ffc94ca58a3b\"}\r\n",
        "\n",
        "{\"status\":\"Downloading\",\"progressDetail\":{\"current\":327680,\"total\":627624,\"start\":1396599887},\"progress\":\"[==========================\\u003e                        ] 327.7 kB/627.6 kB 0\",\"id\":\"ffc94ca58a3b\"}\r\n",
        "\n",
        "{\"status\":\"Downloading\",\"progressDetail\":{\"current\":335872,\"total\":627624,\"start\":1396599887},\"progress\":\"[==========================\\u003e                        ] 335.9 kB/627.6 kB 0\",\"id\":\"ffc94ca58a3b\"}\r\n",
        "\n",
        "{\"status\":\"Downloading\",\"progressDetail\":{\"current\":344064,\"total\":627624,\"start\":1396599887},\"progress\":\"[===========================\\u003e                       ] 344.1 kB/627.6 kB 0\",\"id\":\"ffc94ca58a3b\"}\r\n"
       ]
      },
      {
       "output_type": "stream",
       "stream": "stdout",
       "text": [
        "\n",
        "{\"status\":\"Downloading\",\"progressDetail\":{\"current\":352256,\"total\":627624,\"start\":1396599887},\"progress\":\"[============================\\u003e                      ] 352.3 kB/627.6 kB 0\",\"id\":\"ffc94ca58a3b\"}\r\n",
        "\n",
        "{\"status\":\"Downloading\",\"progressDetail\":{\"current\":360448,\"total\":627624,\"start\":1396599887},\"progress\":\"[============================\\u003e                      ] 360.4 kB/627.6 kB 0\",\"id\":\"ffc94ca58a3b\"}\r\n",
        "\n",
        "{\"status\":\"Downloading\",\"progressDetail\":{\"current\":368640,\"total\":627624,\"start\":1396599887},\"progress\":\"[=============================\\u003e                     ] 368.6 kB/627.6 kB 0\",\"id\":\"ffc94ca58a3b\"}\r\n",
        "\n",
        "{\"status\":\"Downloading\",\"progressDetail\":{\"current\":376832,\"total\":627624,\"start\":1396599887},\"progress\":\"[==============================\\u003e                    ] 376.8 kB/627.6 kB 0\",\"id\":\"ffc94ca58a3b\"}\r\n",
        "\n",
        "{\"status\":\"Downloading\",\"progressDetail\":{\"current\":385024,\"total\":627624,\"start\":1396599887},\"progress\":\"[==============================\\u003e                    ]   385 kB/627.6 kB 0\",\"id\":\"ffc94ca58a3b\"}\r\n",
        "\n",
        "{\"status\":\"Downloading\",\"progressDetail\":{\"current\":393216,\"total\":627624,\"start\":1396599887},\"progress\":\"[===============================\\u003e                   ] 393.2 kB/627.6 kB 0\",\"id\":\"ffc94ca58a3b\"}\r\n",
        "\n",
        "{\"status\":\"Downloading\",\"progressDetail\":{\"current\":401408,\"total\":627624,\"start\":1396599887},\"progress\":\"[===============================\\u003e                   ] 401.4 kB/627.6 kB 0\",\"id\":\"ffc94ca58a3b\"}\r\n",
        "\n",
        "{\"status\":\"Downloading\",\"progressDetail\":{\"current\":409600,\"total\":627624,\"start\":1396599887},\"progress\":\"[================================\\u003e                  ] 409.6 kB/627.6 kB 0\",\"id\":\"ffc94ca58a3b\"}\r\n",
        "\n",
        "{\"status\":\"Downloading\",\"progressDetail\":{\"current\":417792,\"total\":627624,\"start\":1396599887},\"progress\":\"[=================================\\u003e                 ] 417.8 kB/627.6 kB 0\",\"id\":\"ffc94ca58a3b\"}\r\n",
        "\n",
        "{\"status\":\"Downloading\",\"progressDetail\":{\"current\":425984,\"total\":627624,\"start\":1396599887},\"progress\":\"[=================================\\u003e                 ]   426 kB/627.6 kB 0\",\"id\":\"ffc94ca58a3b\"}\r\n",
        "\n",
        "{\"status\":\"Downloading\",\"progressDetail\":{\"current\":434176,\"total\":627624,\"start\":1396599887},\"progress\":\"[==================================\\u003e                ] 434.2 kB/627.6 kB 0\",\"id\":\"ffc94ca58a3b\"}\r\n",
        "\n",
        "{\"status\":\"Downloading\",\"progressDetail\":{\"current\":442368,\"total\":627624,\"start\":1396599887},\"progress\":\"[===================================\\u003e               ] 442.4 kB/627.6 kB 0\",\"id\":\"ffc94ca58a3b\"}\r\n",
        "\n",
        "{\"status\":\"Downloading\",\"progressDetail\":{\"current\":450560,\"total\":627624,\"start\":1396599887},\"progress\":\"[===================================\\u003e               ] 450.6 kB/627.6 kB 0\",\"id\":\"ffc94ca58a3b\"}\r\n",
        "\n",
        "{\"status\":\"Downloading\",\"progressDetail\":{\"current\":458752,\"total\":627624,\"start\":1396599887},\"progress\":\"[====================================\\u003e              ] 458.8 kB/627.6 kB 0\",\"id\":\"ffc94ca58a3b\"}\r\n",
        "\n",
        "{\"status\":\"Downloading\",\"progressDetail\":{\"current\":466944,\"total\":627624,\"start\":1396599887},\"progress\":\"[=====================================\\u003e             ] 466.9 kB/627.6 kB 0\",\"id\":\"ffc94ca58a3b\"}\r\n",
        "\n",
        "{\"status\":\"Downloading\",\"progressDetail\":{\"current\":475136,\"total\":627624,\"start\":1396599887},\"progress\":\"[=====================================\\u003e             ] 475.1 kB/627.6 kB 0\",\"id\":\"ffc94ca58a3b\"}\r\n",
        "\n",
        "{\"status\":\"Downloading\",\"progressDetail\":{\"current\":483328,\"total\":627624,\"start\":1396599887},\"progress\":\"[======================================\\u003e            ] 483.3 kB/627.6 kB 0\",\"id\":\"ffc94ca58a3b\"}\r\n",
        "\n",
        "{\"status\":\"Downloading\",\"progressDetail\":{\"current\":491520,\"total\":627624,\"start\":1396599887},\"progress\":\"[=======================================\\u003e           ] 491.5 kB/627.6 kB 0\",\"id\":\"ffc94ca58a3b\"}\r\n"
       ]
      },
      {
       "output_type": "stream",
       "stream": "stdout",
       "text": [
        "\n",
        "{\"status\":\"Downloading\",\"progressDetail\":{\"current\":499712,\"total\":627624,\"start\":1396599887},\"progress\":\"[=======================================\\u003e           ] 499.7 kB/627.6 kB 0\",\"id\":\"ffc94ca58a3b\"}\r\n",
        "\n",
        "{\"status\":\"Downloading\",\"progressDetail\":{\"current\":507904,\"total\":627624,\"start\":1396599887},\"progress\":\"[========================================\\u003e          ] 507.9 kB/627.6 kB 0\",\"id\":\"ffc94ca58a3b\"}\r\n",
        "\n",
        "{\"status\":\"Downloading\",\"progressDetail\":{\"current\":516096,\"total\":627624,\"start\":1396599887},\"progress\":\"[=========================================\\u003e         ] 516.1 kB/627.6 kB 0\",\"id\":\"ffc94ca58a3b\"}\r\n",
        "\n",
        "{\"status\":\"Downloading\",\"progressDetail\":{\"current\":524288,\"total\":627624,\"start\":1396599887},\"progress\":\"[=========================================\\u003e         ] 524.3 kB/627.6 kB 0\",\"id\":\"ffc94ca58a3b\"}\r\n",
        "\n",
        "{\"status\":\"Downloading\",\"progressDetail\":{\"current\":532480,\"total\":627624,\"start\":1396599887},\"progress\":\"[==========================================\\u003e        ] 532.5 kB/627.6 kB 0\",\"id\":\"ffc94ca58a3b\"}\r\n",
        "\n",
        "{\"status\":\"Downloading\",\"progressDetail\":{\"current\":540672,\"total\":627624,\"start\":1396599887},\"progress\":\"[===========================================\\u003e       ] 540.7 kB/627.6 kB 0\",\"id\":\"ffc94ca58a3b\"}\r\n",
        "\n",
        "{\"status\":\"Downloading\",\"progressDetail\":{\"current\":548864,\"total\":627624,\"start\":1396599887},\"progress\":\"[===========================================\\u003e       ] 548.9 kB/627.6 kB 0\",\"id\":\"ffc94ca58a3b\"}\r\n",
        "\n",
        "{\"status\":\"Downloading\",\"progressDetail\":{\"current\":557056,\"total\":627624,\"start\":1396599887},\"progress\":\"[============================================\\u003e      ] 557.1 kB/627.6 kB 0\",\"id\":\"ffc94ca58a3b\"}\r\n",
        "\n",
        "{\"status\":\"Downloading\",\"progressDetail\":{\"current\":565248,\"total\":627624,\"start\":1396599887},\"progress\":\"[=============================================\\u003e     ] 565.2 kB/627.6 kB 0\",\"id\":\"ffc94ca58a3b\"}\r\n"
       ]
      },
      {
       "output_type": "stream",
       "stream": "stdout",
       "text": [
        "\n",
        "{\"status\":\"Downloading\",\"progressDetail\":{\"current\":573440,\"total\":627624,\"start\":1396599887},\"progress\":\"[=============================================\\u003e     ] 573.4 kB/627.6 kB 0\",\"id\":\"ffc94ca58a3b\"}\r\n",
        "\n",
        "{\"status\":\"Downloading\",\"progressDetail\":{\"current\":581632,\"total\":627624,\"start\":1396599887},\"progress\":\"[==============================================\\u003e    ] 581.6 kB/627.6 kB 0\",\"id\":\"ffc94ca58a3b\"}\r\n",
        "\n",
        "{\"status\":\"Downloading\",\"progressDetail\":{\"current\":589824,\"total\":627624,\"start\":1396599887},\"progress\":\"[==============================================\\u003e    ] 589.8 kB/627.6 kB 0\",\"id\":\"ffc94ca58a3b\"}\r\n",
        "\n",
        "{\"status\":\"Downloading\",\"progressDetail\":{\"current\":598016,\"total\":627624,\"start\":1396599887},\"progress\":\"[===============================================\\u003e   ]   598 kB/627.6 kB 0\",\"id\":\"ffc94ca58a3b\"}\r\n",
        "\n",
        "{\"status\":\"Downloading\",\"progressDetail\":{\"current\":606208,\"total\":627624,\"start\":1396599887},\"progress\":\"[================================================\\u003e  ] 606.2 kB/627.6 kB 0\",\"id\":\"ffc94ca58a3b\"}\r\n",
        "\n",
        "{\"status\":\"Downloading\",\"progressDetail\":{\"current\":614400,\"total\":627624,\"start\":1396599887},\"progress\":\"[================================================\\u003e  ] 614.4 kB/627.6 kB 0\",\"id\":\"ffc94ca58a3b\"}\r\n",
        "\n",
        "{\"status\":\"Downloading\",\"progressDetail\":{\"current\":622592,\"total\":627624,\"start\":1396599887},\"progress\":\"[=================================================\\u003e ] 622.6 kB/627.6 kB 0\",\"id\":\"ffc94ca58a3b\"}\r\n",
        "\n",
        "{\"status\":\"Downloading\",\"progressDetail\":{\"current\":627624,\"total\":627624,\"start\":1396599887},\"progress\":\"[==================================================\\u003e] 627.6 kB/627.6 kB\",\"id\":\"ffc94ca58a3b\"}\r\n",
        "\n",
        "{\"status\":\"Download complete\",\"progressDetail\":{},\"id\":\"ffc94ca58a3b\"}\r\n",
        "\n",
        "{\"status\":\"Pulling metadata\",\"progressDetail\":{},\"id\":\"bfa7f7cadbff\"}\r\n",
        "\n",
        "{\"status\":\"Pulling fs layer\",\"progressDetail\":{},\"id\":\"bfa7f7cadbff\"}\r\n"
       ]
      },
      {
       "output_type": "stream",
       "stream": "stdout",
       "text": [
        "\n",
        "{\"status\":\"Downloading\",\"progressDetail\":{\"current\":10,\"total\":177,\"start\":1396599889},\"progress\":\"[==\\u003e                                                ]     10 B/177 B 9s\",\"id\":\"bfa7f7cadbff\"}\r\n"
       ]
      },
      {
       "output_type": "stream",
       "stream": "stdout",
       "text": [
        "\n",
        "{\"status\":\"Downloading\",\"progressDetail\":{\"current\":177,\"total\":177,\"start\":1396599889},\"progress\":\"[==================================================\\u003e]    177 B/177 B\",\"id\":\"bfa7f7cadbff\"}\r\n",
        "\n",
        "{\"status\":\"Downloading\",\"progressDetail\":{\"current\":177,\"total\":177,\"start\":1396599889},\"progress\":\"[==================================================\\u003e]    177 B/177 B\",\"id\":\"bfa7f7cadbff\"}\r\n",
        "\n",
        "{\"status\":\"Download complete\",\"progressDetail\":{},\"id\":\"bfa7f7cadbff\"}\r\n",
        "\n",
        "{\"status\":\"Download complete\",\"progressDetail\":{},\"id\":\"bfa7f7cadbff\"}\r\n",
        "\n"
       ]
      }
     ],
     "prompt_number": 34
    },
    {
     "cell_type": "code",
     "collapsed": false,
     "input": [
      "client.create_container('lgsd/diamond', name='mfcloud/test')\n"
     ],
     "language": "python",
     "metadata": {},
     "outputs": [
      {
       "ename": "APIError",
       "evalue": "404 Client Error: Not Found (\"No such image: lgsd/diamond (tag: latest)\")",
       "output_type": "pyerr",
       "traceback": [
        "\u001b[1;31m---------------------------------------------------------------------------\u001b[0m\n\u001b[1;31mAPIError\u001b[0m                                  Traceback (most recent call last)",
        "\u001b[1;32m<ipython-input-28-b1a78cc07ee2>\u001b[0m in \u001b[0;36m<module>\u001b[1;34m()\u001b[0m\n\u001b[1;32m----> 1\u001b[1;33m \u001b[0mclient\u001b[0m\u001b[1;33m.\u001b[0m\u001b[0mcreate_container\u001b[0m\u001b[1;33m(\u001b[0m\u001b[1;34m'lgsd/diamond'\u001b[0m\u001b[1;33m,\u001b[0m \u001b[0mname\u001b[0m\u001b[1;33m=\u001b[0m\u001b[1;34m'mfcloud/test'\u001b[0m\u001b[1;33m)\u001b[0m\u001b[1;33m\u001b[0m\u001b[0m\n\u001b[0m",
        "\u001b[1;32m/home/alex/dev/mfcloud/.env/local/lib/python2.7/site-packages/docker/client.pyc\u001b[0m in \u001b[0;36mcreate_container\u001b[1;34m(self, image, command, hostname, user, detach, stdin_open, tty, mem_limit, ports, environment, dns, volumes, volumes_from, network_disabled, name, entrypoint, cpu_shares, working_dir)\u001b[0m\n\u001b[0;32m    434\u001b[0m             \u001b[0mentrypoint\u001b[0m\u001b[1;33m,\u001b[0m \u001b[0mcpu_shares\u001b[0m\u001b[1;33m,\u001b[0m \u001b[0mworking_dir\u001b[0m\u001b[1;33m\u001b[0m\u001b[0m\n\u001b[0;32m    435\u001b[0m         )\n\u001b[1;32m--> 436\u001b[1;33m         \u001b[1;32mreturn\u001b[0m \u001b[0mself\u001b[0m\u001b[1;33m.\u001b[0m\u001b[0mcreate_container_from_config\u001b[0m\u001b[1;33m(\u001b[0m\u001b[0mconfig\u001b[0m\u001b[1;33m,\u001b[0m \u001b[0mname\u001b[0m\u001b[1;33m)\u001b[0m\u001b[1;33m\u001b[0m\u001b[0m\n\u001b[0m\u001b[0;32m    437\u001b[0m \u001b[1;33m\u001b[0m\u001b[0m\n\u001b[0;32m    438\u001b[0m     \u001b[1;32mdef\u001b[0m \u001b[0mcreate_container_from_config\u001b[0m\u001b[1;33m(\u001b[0m\u001b[0mself\u001b[0m\u001b[1;33m,\u001b[0m \u001b[0mconfig\u001b[0m\u001b[1;33m,\u001b[0m \u001b[0mname\u001b[0m\u001b[1;33m=\u001b[0m\u001b[0mNone\u001b[0m\u001b[1;33m)\u001b[0m\u001b[1;33m:\u001b[0m\u001b[1;33m\u001b[0m\u001b[0m\n",
        "\u001b[1;32m/home/alex/dev/mfcloud/.env/local/lib/python2.7/site-packages/docker/client.pyc\u001b[0m in \u001b[0;36mcreate_container_from_config\u001b[1;34m(self, config, name)\u001b[0m\n\u001b[0;32m    442\u001b[0m         }\n\u001b[0;32m    443\u001b[0m         \u001b[0mres\u001b[0m \u001b[1;33m=\u001b[0m \u001b[0mself\u001b[0m\u001b[1;33m.\u001b[0m\u001b[0m_post_json\u001b[0m\u001b[1;33m(\u001b[0m\u001b[0mu\u001b[0m\u001b[1;33m,\u001b[0m \u001b[0mdata\u001b[0m\u001b[1;33m=\u001b[0m\u001b[0mconfig\u001b[0m\u001b[1;33m,\u001b[0m \u001b[0mparams\u001b[0m\u001b[1;33m=\u001b[0m\u001b[0mparams\u001b[0m\u001b[1;33m)\u001b[0m\u001b[1;33m\u001b[0m\u001b[0m\n\u001b[1;32m--> 444\u001b[1;33m         \u001b[1;32mreturn\u001b[0m \u001b[0mself\u001b[0m\u001b[1;33m.\u001b[0m\u001b[0m_result\u001b[0m\u001b[1;33m(\u001b[0m\u001b[0mres\u001b[0m\u001b[1;33m,\u001b[0m \u001b[0mTrue\u001b[0m\u001b[1;33m)\u001b[0m\u001b[1;33m\u001b[0m\u001b[0m\n\u001b[0m\u001b[0;32m    445\u001b[0m \u001b[1;33m\u001b[0m\u001b[0m\n\u001b[0;32m    446\u001b[0m     \u001b[1;32mdef\u001b[0m \u001b[0mdiff\u001b[0m\u001b[1;33m(\u001b[0m\u001b[0mself\u001b[0m\u001b[1;33m,\u001b[0m \u001b[0mcontainer\u001b[0m\u001b[1;33m)\u001b[0m\u001b[1;33m:\u001b[0m\u001b[1;33m\u001b[0m\u001b[0m\n",
        "\u001b[1;32m/home/alex/dev/mfcloud/.env/local/lib/python2.7/site-packages/docker/client.pyc\u001b[0m in \u001b[0;36m_result\u001b[1;34m(self, response, json, binary)\u001b[0m\n\u001b[0;32m    117\u001b[0m     \u001b[1;32mdef\u001b[0m \u001b[0m_result\u001b[0m\u001b[1;33m(\u001b[0m\u001b[0mself\u001b[0m\u001b[1;33m,\u001b[0m \u001b[0mresponse\u001b[0m\u001b[1;33m,\u001b[0m \u001b[0mjson\u001b[0m\u001b[1;33m=\u001b[0m\u001b[0mFalse\u001b[0m\u001b[1;33m,\u001b[0m \u001b[0mbinary\u001b[0m\u001b[1;33m=\u001b[0m\u001b[0mFalse\u001b[0m\u001b[1;33m)\u001b[0m\u001b[1;33m:\u001b[0m\u001b[1;33m\u001b[0m\u001b[0m\n\u001b[0;32m    118\u001b[0m         \u001b[1;32massert\u001b[0m \u001b[1;32mnot\u001b[0m \u001b[1;33m(\u001b[0m\u001b[0mjson\u001b[0m \u001b[1;32mand\u001b[0m \u001b[0mbinary\u001b[0m\u001b[1;33m)\u001b[0m\u001b[1;33m\u001b[0m\u001b[0m\n\u001b[1;32m--> 119\u001b[1;33m         \u001b[0mself\u001b[0m\u001b[1;33m.\u001b[0m\u001b[0m_raise_for_status\u001b[0m\u001b[1;33m(\u001b[0m\u001b[0mresponse\u001b[0m\u001b[1;33m)\u001b[0m\u001b[1;33m\u001b[0m\u001b[0m\n\u001b[0m\u001b[0;32m    120\u001b[0m \u001b[1;33m\u001b[0m\u001b[0m\n\u001b[0;32m    121\u001b[0m         \u001b[1;32mif\u001b[0m \u001b[0mjson\u001b[0m\u001b[1;33m:\u001b[0m\u001b[1;33m\u001b[0m\u001b[0m\n",
        "\u001b[1;32m/home/alex/dev/mfcloud/.env/local/lib/python2.7/site-packages/docker/client.pyc\u001b[0m in \u001b[0;36m_raise_for_status\u001b[1;34m(self, response, explanation)\u001b[0m\n\u001b[0;32m    113\u001b[0m             \u001b[0mresponse\u001b[0m\u001b[1;33m.\u001b[0m\u001b[0mraise_for_status\u001b[0m\u001b[1;33m(\u001b[0m\u001b[1;33m)\u001b[0m\u001b[1;33m\u001b[0m\u001b[0m\n\u001b[0;32m    114\u001b[0m         \u001b[1;32mexcept\u001b[0m \u001b[0mrequests\u001b[0m\u001b[1;33m.\u001b[0m\u001b[0mexceptions\u001b[0m\u001b[1;33m.\u001b[0m\u001b[0mHTTPError\u001b[0m \u001b[1;32mas\u001b[0m \u001b[0me\u001b[0m\u001b[1;33m:\u001b[0m\u001b[1;33m\u001b[0m\u001b[0m\n\u001b[1;32m--> 115\u001b[1;33m             \u001b[1;32mraise\u001b[0m \u001b[0mAPIError\u001b[0m\u001b[1;33m(\u001b[0m\u001b[0me\u001b[0m\u001b[1;33m,\u001b[0m \u001b[0mresponse\u001b[0m\u001b[1;33m,\u001b[0m \u001b[0mexplanation\u001b[0m\u001b[1;33m=\u001b[0m\u001b[0mexplanation\u001b[0m\u001b[1;33m)\u001b[0m\u001b[1;33m\u001b[0m\u001b[0m\n\u001b[0m\u001b[0;32m    116\u001b[0m \u001b[1;33m\u001b[0m\u001b[0m\n\u001b[0;32m    117\u001b[0m     \u001b[1;32mdef\u001b[0m \u001b[0m_result\u001b[0m\u001b[1;33m(\u001b[0m\u001b[0mself\u001b[0m\u001b[1;33m,\u001b[0m \u001b[0mresponse\u001b[0m\u001b[1;33m,\u001b[0m \u001b[0mjson\u001b[0m\u001b[1;33m=\u001b[0m\u001b[0mFalse\u001b[0m\u001b[1;33m,\u001b[0m \u001b[0mbinary\u001b[0m\u001b[1;33m=\u001b[0m\u001b[0mFalse\u001b[0m\u001b[1;33m)\u001b[0m\u001b[1;33m:\u001b[0m\u001b[1;33m\u001b[0m\u001b[0m\n",
        "\u001b[1;31mAPIError\u001b[0m: 404 Client Error: Not Found (\"No such image: lgsd/diamond (tag: latest)\")"
       ]
      }
     ],
     "prompt_number": 28
    },
    {
     "cell_type": "code",
     "collapsed": false,
     "input": [],
     "language": "python",
     "metadata": {},
     "outputs": []
    }
   ],
   "metadata": {}
  }
 ]
}